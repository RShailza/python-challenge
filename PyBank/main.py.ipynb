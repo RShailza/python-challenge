{
 "cells": [
  {
   "cell_type": "code",
   "execution_count": null,
   "id": "5dfb8682",
   "metadata": {},
   "outputs": [],
   "source": [
    "# Creating dependencies\n",
    "import os\n",
    "import csv"
   ]
  },
  {
   "cell_type": "code",
   "execution_count": null,
   "id": "63031980",
   "metadata": {},
   "outputs": [],
   "source": [
    "# Setting Variables\n",
    "count_months = []\n",
    "total_months = 0\n",
    "net_change = []\n",
    "average_net_change = 0\n",
    "list_2 = []"
   ]
  },
  {
   "cell_type": "code",
   "execution_count": null,
   "id": "2f48e6d7",
   "metadata": {},
   "outputs": [],
   "source": [
    " #Opening and readng csv file\n",
    "\n",
    "csvpath = os.path.join('.', 'Resources', 'budget_data.csv')\n",
    "\n",
    "with open(csvpath) as csvfile:\n",
    "    csvreader = csv.reader(csvfile, delimiter=',')\n",
    "    \n",
    "    next(csvreader, None)\n",
    "#     print(csvreader)\n",
    "#     csv_header = next(csvreader)\n",
    "#     print(f\"CSV Header: {csv_header}\")\n",
    "\n",
    "    for row in csvreader:\n",
    "        month = row[0]\n",
    "        count_months.append(month)\n",
    "        \n",
    "        #print(count_months)\n",
    "        \n",
    "        profloss = int(row[1])\n",
    "        list_2.append(profloss)\n",
    "        \n",
    "        #print(list_2)\n",
    "        \n",
    "        total_months = len(count_months)\n",
    "        #print (total_months)\n",
    "        net_total = sum(list_2)\n",
    "        #print(net_total)\n",
    "            "
   ]
  },
  {
   "cell_type": "code",
   "execution_count": null,
   "id": "5c80be70",
   "metadata": {},
   "outputs": [],
   "source": [
    "#calculating the average of the changes in \"Profit/Losses\" over the entire period\n",
    "#to calculte the avergage changes between the month we will have to subtract 1 form \n",
    "#the length since it will be one value less for example: if we have a list \n",
    "# list = [10,20,50,65,90]... here length is 5 however when looking at the net change between values tghe length will be 4\n",
    "\n",
    "net_total_months = len(count_months)-1\n",
    "budget_diff = []\n",
    "\n",
    "for x in range(len(list_2)-1):\n",
    "        budget_diff.append(float(list_2[x+1]) - float(list_2[x]))\n",
    "        new_net_total = sum(budget_diff)\n",
    "\n",
    "# determining the average diff of profit/loss sum\n",
    "average_net_change = new_net_total/net_total_months\n",
    "print(average_net_change)"
   ]
  },
  {
   "cell_type": "code",
   "execution_count": null,
   "id": "dabdf905",
   "metadata": {},
   "outputs": [],
   "source": [
    "# greatest increase and decrease (date and amount)\n",
    "min_list_2 = list_2[list_2.index(min(list_2))] - list_2[list_2.index(min(list_2))-1]\n",
    "max_list_2 = list_2[list_2.index(max(list_2))] - list_2[list_2.index(max(list_2))-1]\n",
    "\n",
    "print(min_list_2)\n",
    "print(max_list_2)\n"
   ]
  },
  {
   "cell_type": "code",
   "execution_count": null,
   "id": "4d8d3880",
   "metadata": {},
   "outputs": [],
   "source": [
    "print(\"Financial Analysis\")\n",
    "print(\"-\" * 50)\n",
    "print(f\"Total Months: {total_months}\")\n",
    "print(f\"Total: ${net_total}\")\n",
    "print(f\"Average Change: ${round(average_net_change,2)}\")\n",
    "print(f'Greatest Increase in Profits: {count_months[list_2.index(max(list_2))]} (${max_list_2})')\n",
    "print(f\"Greatest Descrease in Profits: {count_months[list_2.index(min(list_2))]} (${min_list_2})\")\n"
   ]
  },
  {
   "cell_type": "code",
   "execution_count": null,
   "id": "2d47bdd9",
   "metadata": {},
   "outputs": [],
   "source": [
    "output_file = os.path.join(\".\", \"analysis\", \"financial.txt\")\n",
    "with open(output_file, \"w\", newline=\"\") as datafile:\n",
    "    csvwriter = csv.writer(datafile)\n",
    "    csvwriter.writerow([\"Financial Analysis\"])\n",
    "    csvwriter.writerow([\"--------------------\"])\n",
    "    csvwriter.writerow([f\"Total Months: {total_months}\"])\n",
    "    csvwriter.writerow([f\"Total: ${net_total}\"])\n",
    "    csvwriter.writerow([f\"Average Change: ${round(average_net_change,2)}\"])\n",
    "    csvwriter.writerow([f\"Greatest Increase in Profits: {count_months[list_2.index(max(list_2))]} (${max_list_2})\"])\n",
    "    csvwriter.writerow([f\"Greatest Decrease in Profits: {count_months[list_2.index(min(list_2))]} (${min_list_2})\"])"
   ]
  },
  {
   "cell_type": "code",
   "execution_count": null,
   "id": "f065b649",
   "metadata": {},
   "outputs": [],
   "source": []
  }
 ],
 "metadata": {
  "kernelspec": {
   "display_name": "Python 3",
   "language": "python",
   "name": "python3"
  },
  "language_info": {
   "codemirror_mode": {
    "name": "ipython",
    "version": 3
   },
   "file_extension": ".py",
   "mimetype": "text/x-python",
   "name": "python",
   "nbconvert_exporter": "python",
   "pygments_lexer": "ipython3",
   "version": "3.8.8"
  }
 },
 "nbformat": 4,
 "nbformat_minor": 5
}
