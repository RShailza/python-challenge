{
 "cells": [
  {
   "cell_type": "code",
   "execution_count": 2,
   "id": "f9313919",
   "metadata": {},
   "outputs": [],
   "source": [
    "# Creating dependencies\n",
    "import os\n",
    "import csv"
   ]
  },
  {
   "cell_type": "code",
   "execution_count": null,
   "id": "35aaa54c",
   "metadata": {},
   "outputs": [],
   "source": [
    "# Setting Variables\n",
    "count_months = []\n",
    "total_months = 0\n",
    "net_change = []\n",
    "average_net_change = 0\n",
    "list_2 = []"
   ]
  },
  {
   "cell_type": "code",
   "execution_count": null,
   "id": "836de35a",
   "metadata": {},
   "outputs": [],
   "source": [
    "#Opening and readng csv file\n",
    "\n",
    "csvpath = os.path.join('.', 'Resources', 'budget_data.csv')\n",
    "\n",
    "with open(csvpath) as csvfile:\n",
    "    csvreader = csv.reader(csvfile, delimiter=',')\n",
    "    \n",
    "    next(csvreader, None)\n",
    "#     print(csvreader)\n",
    "#     csv_header = next(csvreader)\n",
    "#     print(f\"CSV Header: {csv_header}\")\n",
    "\n",
    "    for row in csvreader:\n",
    "        month = row[0]\n",
    "        count_months.append(month)\n",
    "        \n",
    "        print(count_months)\n",
    "        \n",
    "#        profloss = row[1]\n",
    "#        list_2.append(profloss)\n",
    "        \n",
    "#         print(list_2)\n",
    "        \n",
    "#         total_months = len(count_months)\n",
    "#         #print (total_months)\n",
    "#         #net_total = sum(list_2)\n",
    "        \n"
   ]
  },
  {
   "cell_type": "code",
   "execution_count": null,
   "id": "e81d782c",
   "metadata": {},
   "outputs": [],
   "source": [
    "  "
   ]
  },
  {
   "cell_type": "code",
   "execution_count": null,
   "id": "ffe14132",
   "metadata": {},
   "outputs": [],
   "source": []
  }
 ],
 "metadata": {
  "kernelspec": {
   "display_name": "Python 3",
   "language": "python",
   "name": "python3"
  },
  "language_info": {
   "codemirror_mode": {
    "name": "ipython",
    "version": 3
   },
   "file_extension": ".py",
   "mimetype": "text/x-python",
   "name": "python",
   "nbconvert_exporter": "python",
   "pygments_lexer": "ipython3",
   "version": "3.8.8"
  }
 },
 "nbformat": 4,
 "nbformat_minor": 5
}
