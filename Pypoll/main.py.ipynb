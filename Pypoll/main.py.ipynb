{
 "cells": [
  {
   "cell_type": "code",
   "execution_count": 1,
   "id": "a4bfaaff",
   "metadata": {},
   "outputs": [],
   "source": [
    "# creating dependencies \n",
    "import os \n",
    "import csv"
   ]
  },
  {
   "cell_type": "code",
   "execution_count": 2,
   "id": "9bb1332a",
   "metadata": {},
   "outputs": [],
   "source": [
    "#Setting Variables \n",
    "\n",
    "total_votes = 0\n",
    "candidate_vote_count = []\n",
    "candidates_unique = []\n"
   ]
  },
  {
   "cell_type": "code",
   "execution_count": 4,
   "id": "f0e2a75d",
   "metadata": {},
   "outputs": [],
   "source": [
    "#Opening and readng csv file\n",
    "\n",
    "csvpath = os.path.join('.', 'Resources', 'election_data.csv')\n",
    "\n",
    "with open(csvpath, newline =\"\") as csvfile:\n",
    "    csvreader = csv.reader(csvfile, delimiter=',')\n",
    "    \n",
    "    next(csvreader, None)\n",
    "\n",
    "#complete list of candidtates who received votes \n",
    "    for row in csvreader:\n",
    "        # number of rows\n",
    "        total_votes += 1\n",
    "        \n",
    "        #read candidates name form column 3 of csv\n",
    "        candidate_name = (row[2])\n",
    "        \n",
    "        #if candidate in the list add 1\n",
    "        if candidate_name in candidates_unique:\n",
    "            candidate_index = candidates_unique.index(candidate_name)\n",
    "            candidate_vote_count[candidate_index] += 1\n",
    "        else:\n",
    "            candidates_unique.append(candidate_name)\n",
    "            candidate_vote_count.append(1)\n",
    "\n"
   ]
  },
  {
   "cell_type": "code",
   "execution_count": 5,
   "id": "6e5b9ca1",
   "metadata": {},
   "outputs": [],
   "source": [
    "#variables for determining percent votes/candidate, total votes / candidate and winner by popular vote  \n",
    "pct = []\n",
    "max_votes = candidate_vote_count[0]\n",
    "max_index = 0\n",
    "\n",
    "for x in range(len(candidates_unique)):\n",
    "    #loop through candidate unique as x \n",
    "    vote_pct = round(candidate_vote_count[x]/total_votes*100, 2)\n",
    "    pct.append(vote_pct)\n",
    "    \n",
    "    if candidate_vote_count[x] > max_votes:\n",
    "        max_votes = candidate_vote_count[x]\n",
    "        max_index = x\n",
    "        \n",
    "    election_winner = candidates_unique[max_index] \n"
   ]
  },
  {
   "cell_type": "code",
   "execution_count": 7,
   "id": "e1164868",
   "metadata": {},
   "outputs": [
    {
     "name": "stdout",
     "output_type": "stream",
     "text": [
      "==================================================\n",
      "|                  Election Results                  |\n",
      "==================================================\n",
      "Total Votes: 3521002\n",
      "~~~~~~~~~~~~~~~~~~~~~~~~~~~~~~~~~~~~~~~~~~~~~~~~~~\n",
      "Khan : 63.0% (2218231)\n",
      "Correy : 20.0% (704200)\n",
      "Li : 14.0% (492940)\n",
      "O'Tooley : 3.0% (105630)\n",
      "~~~~~~~~~~~~~~~~~~~~~~~~~~~~~~~~~~~~~~~~~~~~~~~~~~\n",
      "Election winner: KHAN\n",
      "~~~~~~~~~~~~~~~~~~~~~~~~~~~~~~~~~~~~~~~~~~~~~~~~~~\n"
     ]
    }
   ],
   "source": [
    "print('=' * 50)\n",
    "print('|                  Election Results                  |')\n",
    "print('=' * 50)\n",
    "print(f'Total Votes: {total_votes}')\n",
    "print('~' * 50)\n",
    "for x in range(len(candidates_unique)):\n",
    "    print(f'{candidates_unique[x]} : {pct[x]}% ({candidate_vote_count[x]})')\n",
    "print('~' * 50)\n",
    "print(f'Election winner: {election_winner.upper()}')\n",
    "print('~' * 50)\n"
   ]
  },
  {
   "cell_type": "code",
   "execution_count": 10,
   "id": "8bfd28cd",
   "metadata": {},
   "outputs": [],
   "source": [
    "#output txt file\n",
    "output_file = os.path.join(\".\", \"Analysis\",  \"pypoll_election_results.txt\")\n",
    "with open(output_file, \"w\", newline=\"\") as datafile:\n",
    "    datafile.write('======================================================\\n')\n",
    "    datafile.write('|                  Election Results                  |\\n')\n",
    "    datafile.write('======================================================\\n')\n",
    "    datafile.write(f'Total Votes: {total_votes}\\n')\n",
    "    datafile.write('~~~~~~~~~~~~~~~~~~~~~~~~~~~~~~~~~~~~~~~~~~~~~~~~~~~~~~\\n')\n",
    "    for x in range(len(candidates_unique)):\n",
    "        datafile.write(f'{candidates_unique[x]} : {pct[x]}% ({candidate_vote_count[x]})\\n')\n",
    "    datafile.write('~~~~~~~~~~~~~~~~~~~~~~~~~~~~~~~~~~~~~~~~~~~~~~~~~~~~~~\\n')\n",
    "    datafile.write(f'Election winner: {election_winner.upper()}\\n')\n",
    "    datafile.write('~~~~~~~~~~~~~~~~~~~~~~~~~~~~~~~~~~~~~~~~~~~~~~~~~~~~~~\\n')\n",
    "    datafile.write(\"---END OF REPORT---\")"
   ]
  },
  {
   "cell_type": "code",
   "execution_count": null,
   "id": "51287a81",
   "metadata": {},
   "outputs": [],
   "source": []
  }
 ],
 "metadata": {
  "kernelspec": {
   "display_name": "Python 3",
   "language": "python",
   "name": "python3"
  },
  "language_info": {
   "codemirror_mode": {
    "name": "ipython",
    "version": 3
   },
   "file_extension": ".py",
   "mimetype": "text/x-python",
   "name": "python",
   "nbconvert_exporter": "python",
   "pygments_lexer": "ipython3",
   "version": "3.8.8"
  }
 },
 "nbformat": 4,
 "nbformat_minor": 5
}
